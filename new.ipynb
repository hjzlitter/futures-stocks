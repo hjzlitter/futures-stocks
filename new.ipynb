{
 "cells": [
  {
   "cell_type": "code",
   "execution_count": 1,
   "metadata": {},
   "outputs": [],
   "source": [
    "import numpy as np\n",
    "import pandas as pd\n",
    "from statsmodels.tsa.api import VAR\n",
    "import matplotlib.pyplot as plt\n",
    "from data import fut_list, fut_read, stock_read\n",
    "from util import adf_test, data_generator, significant, ohansen_cointegration_test"
   ]
  },
  {
   "cell_type": "markdown",
   "metadata": {},
   "source": [
    "# Config"
   ]
  },
  {
   "cell_type": "code",
   "execution_count": 2,
   "metadata": {},
   "outputs": [],
   "source": [
    "feature = 'close'"
   ]
  },
  {
   "cell_type": "markdown",
   "metadata": {},
   "source": [
    "# DATA\n",
    "* 数据基础已经全部存在data里了。只需进一步处理得到想要的时间序列。"
   ]
  },
  {
   "cell_type": "code",
   "execution_count": 3,
   "metadata": {},
   "outputs": [
    {
     "name": "stderr",
     "output_type": "stream",
     "text": [
      "/Users/hejizhang/Downloads/主连日线-2018年后/data.py:76: SettingWithCopyWarning: \n",
      "A value is trying to be set on a copy of a slice from a DataFrame\n",
      "\n",
      "See the caveats in the documentation: https://pandas.pydata.org/pandas-docs/stable/user_guide/indexing.html#returning-a-view-versus-a-copy\n",
      "  fut['ChangeRatio'].iloc[0] = 0\n"
     ]
    }
   ],
   "source": [
    "fut = 'CU9999.XSGE'\n",
    "fut_df = fut_read(fut)\n",
    "stock_df = stock_read(fut)"
   ]
  },
  {
   "cell_type": "markdown",
   "metadata": {},
   "source": [
    "### 如果想要定制特征，处理fut_df \\ stock_df即可。"
   ]
  },
  {
   "cell_type": "markdown",
   "metadata": {},
   "source": [
    "# ADF验证是否平稳"
   ]
  },
  {
   "cell_type": "code",
   "execution_count": 5,
   "metadata": {},
   "outputs": [
    {
     "name": "stdout",
     "output_type": "stream",
     "text": [
      "Test Statistic                   -1.247847\n",
      "p-value                           0.652682\n",
      "#Lags Used                        2.000000\n",
      "Number of Observations Used    1191.000000\n",
      "Critical Value (1%)              -3.435852\n",
      "Critical Value (5%)              -2.863970\n",
      "Critical Value (10%)             -2.568064\n",
      "dtype: float64\n",
      "Test Statistic                   -0.678746\n",
      "p-value                           0.852178\n",
      "#Lags Used                        5.000000\n",
      "Number of Observations Used    1184.000000\n",
      "Critical Value (1%)              -3.435885\n",
      "Critical Value (5%)              -2.863984\n",
      "Critical Value (10%)             -2.568071\n",
      "dtype: float64\n",
      "Test Statistic                   -1.854404\n",
      "p-value                           0.353805\n",
      "#Lags Used                       13.000000\n",
      "Number of Observations Used    1180.000000\n",
      "Critical Value (1%)              -3.435904\n",
      "Critical Value (5%)              -2.863992\n",
      "Critical Value (10%)             -2.568076\n",
      "dtype: float64\n",
      "Test Statistic                   -1.507070\n",
      "p-value                           0.530011\n",
      "#Lags Used                        8.000000\n",
      "Number of Observations Used    1175.000000\n",
      "Critical Value (1%)              -3.435928\n",
      "Critical Value (5%)              -2.864003\n",
      "Critical Value (10%)             -2.568081\n",
      "dtype: float64\n",
      "Test Statistic                   -1.077356\n",
      "p-value                           0.724017\n",
      "#Lags Used                        8.000000\n",
      "Number of Observations Used    1185.000000\n",
      "Critical Value (1%)              -3.435880\n",
      "Critical Value (5%)              -2.863982\n",
      "Critical Value (10%)             -2.568070\n",
      "dtype: float64\n",
      "Test Statistic                   -3.232828\n",
      "p-value                           0.018161\n",
      "#Lags Used                        0.000000\n",
      "Number of Observations Used    1193.000000\n",
      "Critical Value (1%)              -3.435843\n",
      "Critical Value (5%)              -2.863966\n",
      "Critical Value (10%)             -2.568061\n",
      "dtype: float64\n"
     ]
    }
   ],
   "source": [
    "adf_test(fut_df[feature])\n",
    "for idx, df in enumerate(stock_df):\n",
    "    adf_test(df[feature])\n",
    "    "
   ]
  },
  {
   "cell_type": "markdown",
   "metadata": {},
   "source": [
    "# 根据模型找出各个stock的联动显著时间段\n",
    "* 由于只有VAR，故不再对模型选择进行分支。"
   ]
  },
  {
   "cell_type": "code",
   "execution_count": 3,
   "metadata": {},
   "outputs": [],
   "source": [
    "sig_col = []\n",
    "for idx, df in enumerate(stock_df):\n",
    "    data = data_generator(fut_df, df, feature)\n",
    "    sig_col.append(significant(data))\n",
    "    "
   ]
  },
  {
   "cell_type": "markdown",
   "metadata": {},
   "source": [
    "sig_col 即为显著的index"
   ]
  },
  {
   "cell_type": "markdown",
   "metadata": {},
   "source": [
    "还有更进一步的算最佳lead lag,不过都是1，所以似乎不重要了,写在下面。可以尝试下冲击"
   ]
  },
  {
   "cell_type": "markdown",
   "metadata": {},
   "source": [
    "```python\n",
    "lag_order = model.select_order(15)\n",
    "print(f\"Selected lag order: {lag_order.selected_orders['aic']}\")\n",
    "model_fitted = model.fit(maxlags=lag_order.selected_orders['aic'])\n",
    "print(model_fitted.summary())\n",
    "\n",
    "irf = model_fitted.irf(10) # 10期冲击响应\n",
    "irf.plot(orth=True) # 正交化冲击响应图\n",
    "plt.show()\n",
    "\n",
    "```"
   ]
  },
  {
   "cell_type": "markdown",
   "metadata": {},
   "source": [
    "# 协整检验\n",
    "* 只用检验上面的data数据（就是一列是期货数据，一列是股票数据）"
   ]
  },
  {
   "cell_type": "code",
   "execution_count": null,
   "metadata": {},
   "outputs": [],
   "source": [
    "\n",
    "for idx, df in enumerate(stock_df):\n",
    "    data = data_generator(fut_df, df, feature)\n",
    "    "
   ]
  }
 ],
 "metadata": {
  "kernelspec": {
   "display_name": "py39",
   "language": "python",
   "name": "python3"
  },
  "language_info": {
   "codemirror_mode": {
    "name": "ipython",
    "version": 3
   },
   "file_extension": ".py",
   "mimetype": "text/x-python",
   "name": "python",
   "nbconvert_exporter": "python",
   "pygments_lexer": "ipython3",
   "version": "3.9.13"
  }
 },
 "nbformat": 4,
 "nbformat_minor": 2
}

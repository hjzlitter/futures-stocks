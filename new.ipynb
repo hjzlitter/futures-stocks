{
 "cells": [
  {
   "cell_type": "code",
   "execution_count": 1,
   "metadata": {},
   "outputs": [],
   "source": [
    "import numpy as np\n",
    "import pandas as pd\n",
    "from statsmodels.tsa.api import VAR\n",
    "import matplotlib.pyplot as plt\n",
    "from data import fut_list, fut_read, stock_read\n",
    "from util import adf_test, data_generator, significant, johansen_cointegration_test, EG"
   ]
  },
  {
   "cell_type": "markdown",
   "metadata": {},
   "source": [
    "# Config"
   ]
  },
  {
   "cell_type": "code",
   "execution_count": 2,
   "metadata": {},
   "outputs": [],
   "source": [
    "fut = 'CU9999.XSGE'\n",
    "feature = 'ChangeRatio'"
   ]
  },
  {
   "cell_type": "markdown",
   "metadata": {},
   "source": [
    "# DATA\n",
    "* 数据基础已经全部存在data里了。只需进一步处理得到想要的时间序列。"
   ]
  },
  {
   "cell_type": "code",
   "execution_count": 3,
   "metadata": {},
   "outputs": [
    {
     "name": "stderr",
     "output_type": "stream",
     "text": [
      "/Users/hejizhang/Downloads/主连日线-2018年后/data.py:81: SettingWithCopyWarning: \n",
      "A value is trying to be set on a copy of a slice from a DataFrame\n",
      "\n",
      "See the caveats in the documentation: https://pandas.pydata.org/pandas-docs/stable/user_guide/indexing.html#returning-a-view-versus-a-copy\n",
      "  fut['ChangeRatio'].iloc[0] = 0\n"
     ]
    }
   ],
   "source": [
    "fut_df = fut_read(fut)\n",
    "stock_df = stock_read(fut)"
   ]
  },
  {
   "cell_type": "markdown",
   "metadata": {},
   "source": [
    "### 如果想要定制特征，处理fut_df \\ stock_df即可。"
   ]
  },
  {
   "cell_type": "markdown",
   "metadata": {},
   "source": [
    "# ADF验证是否平稳"
   ]
  },
  {
   "cell_type": "code",
   "execution_count": 4,
   "metadata": {},
   "outputs": [
    {
     "name": "stdout",
     "output_type": "stream",
     "text": [
      "Test Statistic                  -33.507513\n",
      "p-value                           0.000000\n",
      "#Lags Used                        0.000000\n",
      "Number of Observations Used    1189.000000\n",
      "Critical Value (1%)              -3.435862\n",
      "Critical Value (5%)              -2.863974\n",
      "Critical Value (10%)             -2.568066\n",
      "dtype: float64\n",
      "Test Statistic                -1.370201e+01\n",
      "p-value                        1.284425e-25\n",
      "#Lags Used                     7.000000e+00\n",
      "Number of Observations Used    1.186000e+03\n",
      "Critical Value (1%)           -3.435876e+00\n",
      "Critical Value (5%)           -2.863980e+00\n",
      "Critical Value (10%)          -2.568069e+00\n",
      "dtype: float64\n",
      "Test Statistic                -1.434570e+01\n",
      "p-value                        1.041917e-26\n",
      "#Lags Used                     7.000000e+00\n",
      "Number of Observations Used    1.176000e+03\n",
      "Critical Value (1%)           -3.435923e+00\n",
      "Critical Value (5%)           -2.864001e+00\n",
      "Critical Value (10%)          -2.568080e+00\n",
      "dtype: float64\n",
      "Test Statistic                  -33.486238\n",
      "p-value                           0.000000\n",
      "#Lags Used                        0.000000\n",
      "Number of Observations Used    1193.000000\n",
      "Critical Value (1%)              -3.435843\n",
      "Critical Value (5%)              -2.863966\n",
      "Critical Value (10%)             -2.568061\n",
      "dtype: float64\n",
      "Test Statistic                  -34.303758\n",
      "p-value                           0.000000\n",
      "#Lags Used                        0.000000\n",
      "Number of Observations Used    1193.000000\n",
      "Critical Value (1%)              -3.435843\n",
      "Critical Value (5%)              -2.863966\n",
      "Critical Value (10%)             -2.568061\n",
      "dtype: float64\n"
     ]
    }
   ],
   "source": [
    "adf_list = []\n",
    "for idx, df in enumerate(stock_df):\n",
    "   adf_list.append(adf_test(df[feature]))\n",
    "adf_df = pd.concat(adf_list, axis=1)   "
   ]
  },
  {
   "cell_type": "code",
   "execution_count": 5,
   "metadata": {},
   "outputs": [
    {
     "data": {
      "text/html": [
       "<div>\n",
       "<style scoped>\n",
       "    .dataframe tbody tr th:only-of-type {\n",
       "        vertical-align: middle;\n",
       "    }\n",
       "\n",
       "    .dataframe tbody tr th {\n",
       "        vertical-align: top;\n",
       "    }\n",
       "\n",
       "    .dataframe thead th {\n",
       "        text-align: right;\n",
       "    }\n",
       "</style>\n",
       "<table border=\"1\" class=\"dataframe\">\n",
       "  <thead>\n",
       "    <tr style=\"text-align: right;\">\n",
       "      <th></th>\n",
       "      <th>0</th>\n",
       "      <th>1</th>\n",
       "      <th>2</th>\n",
       "      <th>3</th>\n",
       "      <th>4</th>\n",
       "    </tr>\n",
       "  </thead>\n",
       "  <tbody>\n",
       "    <tr>\n",
       "      <th>Test Statistic</th>\n",
       "      <td>-33.507513</td>\n",
       "      <td>-1.370201e+01</td>\n",
       "      <td>-1.434570e+01</td>\n",
       "      <td>-33.486238</td>\n",
       "      <td>-34.303758</td>\n",
       "    </tr>\n",
       "    <tr>\n",
       "      <th>p-value</th>\n",
       "      <td>0.000000</td>\n",
       "      <td>1.284425e-25</td>\n",
       "      <td>1.041917e-26</td>\n",
       "      <td>0.000000</td>\n",
       "      <td>0.000000</td>\n",
       "    </tr>\n",
       "    <tr>\n",
       "      <th>#Lags Used</th>\n",
       "      <td>0.000000</td>\n",
       "      <td>7.000000e+00</td>\n",
       "      <td>7.000000e+00</td>\n",
       "      <td>0.000000</td>\n",
       "      <td>0.000000</td>\n",
       "    </tr>\n",
       "    <tr>\n",
       "      <th>Number of Observations Used</th>\n",
       "      <td>1189.000000</td>\n",
       "      <td>1.186000e+03</td>\n",
       "      <td>1.176000e+03</td>\n",
       "      <td>1193.000000</td>\n",
       "      <td>1193.000000</td>\n",
       "    </tr>\n",
       "    <tr>\n",
       "      <th>Critical Value (1%)</th>\n",
       "      <td>-3.435862</td>\n",
       "      <td>-3.435876e+00</td>\n",
       "      <td>-3.435923e+00</td>\n",
       "      <td>-3.435843</td>\n",
       "      <td>-3.435843</td>\n",
       "    </tr>\n",
       "    <tr>\n",
       "      <th>Critical Value (5%)</th>\n",
       "      <td>-2.863974</td>\n",
       "      <td>-2.863980e+00</td>\n",
       "      <td>-2.864001e+00</td>\n",
       "      <td>-2.863966</td>\n",
       "      <td>-2.863966</td>\n",
       "    </tr>\n",
       "    <tr>\n",
       "      <th>Critical Value (10%)</th>\n",
       "      <td>-2.568066</td>\n",
       "      <td>-2.568069e+00</td>\n",
       "      <td>-2.568080e+00</td>\n",
       "      <td>-2.568061</td>\n",
       "      <td>-2.568061</td>\n",
       "    </tr>\n",
       "  </tbody>\n",
       "</table>\n",
       "</div>"
      ],
      "text/plain": [
       "                                       0             1             2  \\\n",
       "Test Statistic                -33.507513 -1.370201e+01 -1.434570e+01   \n",
       "p-value                         0.000000  1.284425e-25  1.041917e-26   \n",
       "#Lags Used                      0.000000  7.000000e+00  7.000000e+00   \n",
       "Number of Observations Used  1189.000000  1.186000e+03  1.176000e+03   \n",
       "Critical Value (1%)            -3.435862 -3.435876e+00 -3.435923e+00   \n",
       "Critical Value (5%)            -2.863974 -2.863980e+00 -2.864001e+00   \n",
       "Critical Value (10%)           -2.568066 -2.568069e+00 -2.568080e+00   \n",
       "\n",
       "                                       3            4  \n",
       "Test Statistic                -33.486238   -34.303758  \n",
       "p-value                         0.000000     0.000000  \n",
       "#Lags Used                      0.000000     0.000000  \n",
       "Number of Observations Used  1193.000000  1193.000000  \n",
       "Critical Value (1%)            -3.435843    -3.435843  \n",
       "Critical Value (5%)            -2.863966    -2.863966  \n",
       "Critical Value (10%)           -2.568061    -2.568061  "
      ]
     },
     "execution_count": 5,
     "metadata": {},
     "output_type": "execute_result"
    }
   ],
   "source": [
    "adf_df"
   ]
  },
  {
   "cell_type": "markdown",
   "metadata": {},
   "source": [
    "对于changeratio而言，是平稳的"
   ]
  },
  {
   "cell_type": "markdown",
   "metadata": {},
   "source": [
    "# 根据模型找出各个stock的联动显著时间段\n",
    "* 由于只有VAR，故不再对模型选择进行分支。\n",
    "* 由于p=0.05基本找不到显著的时间段，改成了0.10\n",
    "* y是股票的y。第一个p是const的，第二个是期货前一时刻特征的p，第三个是股票前一时刻的特征的p。"
   ]
  },
  {
   "cell_type": "markdown",
   "metadata": {},
   "source": [
    "## 先算一下相关性\n",
    "* 这个只算了一个期货和具体股票某个特征的收益。\n",
    "* 看下面收益率的corr，相关性还挺高。\n",
    "* 与此同时，把数据的describe也写上了。"
   ]
  },
  {
   "cell_type": "code",
   "execution_count": 5,
   "metadata": {},
   "outputs": [
    {
     "data": {
      "text/plain": [
       "[       ChangeRatio_df1  ChangeRatio_df2\n",
       " count      1190.000000      1190.000000\n",
       " mean          0.000397         0.001785\n",
       " std           0.010978         0.025930\n",
       " min          -0.062057        -0.100233\n",
       " 25%          -0.005413        -0.013432\n",
       " 50%           0.000286         0.000849\n",
       " 75%           0.006051         0.014644\n",
       " max           0.054413         0.100358,\n",
       "        ChangeRatio_df1  ChangeRatio_df2\n",
       " count      1194.000000      1194.000000\n",
       " mean          0.000396         0.000705\n",
       " std           0.010960         0.023686\n",
       " min          -0.062057        -0.100045\n",
       " 25%          -0.005360        -0.009709\n",
       " 50%           0.000286         0.000000\n",
       " 75%           0.006028         0.011032\n",
       " max           0.054413         0.100206,\n",
       "        ChangeRatio_df1  ChangeRatio_df2\n",
       " count      1184.000000      1184.000000\n",
       " mean          0.000421         0.000723\n",
       " std           0.010981         0.023142\n",
       " min          -0.062057        -0.099773\n",
       " 25%          -0.005299        -0.010390\n",
       " 50%           0.000293         0.000000\n",
       " 75%           0.006036         0.010515\n",
       " max           0.054413         0.101449,\n",
       "        ChangeRatio_df1  ChangeRatio_df2\n",
       " count      1194.000000      1194.000000\n",
       " mean          0.000396         0.001471\n",
       " std           0.010960         0.027311\n",
       " min          -0.062057        -0.100154\n",
       " 25%          -0.005360        -0.012654\n",
       " 50%           0.000286         0.000794\n",
       " 75%           0.006028         0.014318\n",
       " max           0.054413         0.100599,\n",
       "        ChangeRatio_df1  ChangeRatio_df2\n",
       " count      1194.000000      1194.000000\n",
       " mean          0.000396         0.000486\n",
       " std           0.010960         0.024177\n",
       " min          -0.062057        -0.100269\n",
       " 25%          -0.005360        -0.012092\n",
       " 50%           0.000286         0.000000\n",
       " 75%           0.006028         0.012119\n",
       " max           0.054413         0.100503]"
      ]
     },
     "execution_count": 5,
     "metadata": {},
     "output_type": "execute_result"
    }
   ],
   "source": [
    "corr_list = []\n",
    "data_describe = []\n",
    "for df in stock_df:\n",
    "    data = data_generator(fut_df, df, feature)\n",
    "    corr_list.append(data.corr())\n",
    "    data_describe.append(data.describe())\n",
    "# corr_list\n",
    "data_describe"
   ]
  },
  {
   "cell_type": "markdown",
   "metadata": {},
   "source": [
    "#### 主意这个找显著，都是90%置信读就行。因为95%的找不到。"
   ]
  },
  {
   "cell_type": "code",
   "execution_count": 6,
   "metadata": {},
   "outputs": [
    {
     "data": {
      "text/plain": [
       "[[[0, array([0.07669832, 0.03720587, 0.01438783])],\n",
       "  [1, array([0.07110896, 0.03989815, 0.02220851])],\n",
       "  [3, array([0.03700736, 0.02427026, 0.03001648])],\n",
       "  [461, array([0.06187387, 0.01776586, 0.09157615])],\n",
       "  [462, array([0.07216438, 0.01201078, 0.06453823])],\n",
       "  [543, array([0.09130337, 0.00218921, 0.0152069 ])],\n",
       "  [846, array([0.04396597, 0.08938499, 0.0434864 ])],\n",
       "  [847, array([0.02516317, 0.07404043, 0.03527982])]],\n",
       " [[3, array([0.09983438, 0.02048287, 0.02625046])],\n",
       "  [5, array([0.06254327, 0.0106275 , 0.03478245])],\n",
       "  [6, array([0.0279161 , 0.01415837, 0.0375582 ])],\n",
       "  [137, array([0.04668035, 0.09926507, 0.06327435])],\n",
       "  [138, array([0.07776827, 0.03992777, 0.04845521])],\n",
       "  [139, array([0.06423892, 0.03505261, 0.05556232])],\n",
       "  [141, array([0.09273869, 0.0355535 , 0.07064869])],\n",
       "  [142, array([0.09610814, 0.03836194, 0.07086439])],\n",
       "  [256, array([0.02002243, 0.0120848 , 0.01287456])],\n",
       "  [357, array([0.00793185, 0.09517341, 0.05815873])],\n",
       "  [724, array([0.03831802, 0.06976187, 0.06859907])],\n",
       "  [730, array([0.05944347, 0.09346452, 0.07455753])],\n",
       "  [731, array([0.07820956, 0.00994392, 0.06824263])],\n",
       "  [960, array([0.07264779, 0.00819468, 0.09051487])],\n",
       "  [961, array([0.07016725, 0.01477812, 0.09029967])]],\n",
       " [[261, array([0.00204869, 0.07670813, 0.06771635])],\n",
       "  [262, array([0.0039093 , 0.09331636, 0.08469526])],\n",
       "  [545, array([0.03221669, 0.04108498, 0.00062435])],\n",
       "  [546, array([0.01637053, 0.05253315, 0.00111629])],\n",
       "  [724, array([0.09062505, 0.01551738, 0.07560033])],\n",
       "  [849, array([0.05263928, 0.09236058, 0.02577493])],\n",
       "  [951, array([0.04722074, 0.00694391, 0.01593399])],\n",
       "  [952, array([0.02373646, 0.00266889, 0.00456999])],\n",
       "  [953, array([0.02368308, 0.0002716 , 0.00232668])],\n",
       "  [954, array([0.01914528, 0.00013981, 0.00161775])],\n",
       "  [955, array([0.03060369, 0.00012807, 0.00166482])],\n",
       "  [956, array([0.02838736, 0.000386  , 0.00279462])],\n",
       "  [957, array([0.04291258, 0.00024431, 0.00150849])],\n",
       "  [958, array([0.05278927, 0.00025255, 0.00166782])],\n",
       "  [959, array([0.04351066, 0.00024213, 0.00155155])],\n",
       "  [960, array([1.69262687e-02, 3.98962279e-05, 6.16316560e-04])],\n",
       "  [961, array([1.34918134e-02, 6.85239823e-05, 6.42298203e-04])],\n",
       "  [962, array([0.04050835, 0.00023289, 0.00243026])],\n",
       "  [963, array([0.04248   , 0.00097318, 0.04421568])]],\n",
       " [[10, array([0.05102288, 0.01899972, 0.02411577])],\n",
       "  [253, array([0.05198029, 0.02096926, 0.00890416])],\n",
       "  [254, array([0.04605831, 0.02461907, 0.01051511])],\n",
       "  [255, array([0.05902243, 0.02854941, 0.01384993])],\n",
       "  [256, array([0.01018856, 0.00302181, 0.00907412])],\n",
       "  [549, array([0.04594134, 0.01144064, 0.00942211])],\n",
       "  [724, array([0.02491969, 0.08243127, 0.01475204])],\n",
       "  [726, array([0.07164905, 0.04186908, 0.05854257])],\n",
       "  [730, array([0.08427613, 0.02063958, 0.02063682])]],\n",
       " [[6, array([0.04270148, 0.01759272, 0.02809067])],\n",
       "  [1062, array([0.09340565, 0.07795131, 0.05202688])],\n",
       "  [1063, array([0.07401811, 0.08286166, 0.04948015])],\n",
       "  [1064, array([0.02597969, 0.06936964, 0.03995808])],\n",
       "  [1065, array([0.01227059, 0.0775975 , 0.01967616])],\n",
       "  [1066, array([0.04102727, 0.05122349, 0.03383541])],\n",
       "  [1067, array([0.02760035, 0.04371498, 0.02595009])],\n",
       "  [1068, array([0.0161788 , 0.03810394, 0.03664114])],\n",
       "  [1069, array([0.02242619, 0.03485089, 0.03038743])],\n",
       "  [1070, array([0.01756641, 0.02868441, 0.02860385])],\n",
       "  [1071, array([0.03100082, 0.02275686, 0.01758076])],\n",
       "  [1072, array([0.0463849 , 0.02622065, 0.02947012])],\n",
       "  [1073, array([0.07203491, 0.01479165, 0.03405116])],\n",
       "  [1074, array([0.05442843, 0.01327492, 0.02461495])],\n",
       "  [1075, array([0.07161155, 0.00989768, 0.02185844])],\n",
       "  [1077, array([0.09516666, 0.00647939, 0.01676147])],\n",
       "  [1078, array([0.03951275, 0.0296257 , 0.02432795])]]]"
      ]
     },
     "execution_count": 6,
     "metadata": {},
     "output_type": "execute_result"
    }
   ],
   "source": [
    "sig_col = []\n",
    "for idx, df in enumerate(stock_df):\n",
    "    data = data_generator(fut_df, df, feature)\n",
    "    sig_col.append(significant(data))\n",
    "sig_col\n",
    "# 要画什么图根据这个再改一改。"
   ]
  },
  {
   "cell_type": "markdown",
   "metadata": {},
   "source": [
    "上面sig为list。list 0-4表明对应的stock。\n",
    "\n",
    "比如list[0]中，就存了期股联动显著的时间切片。list中第一个数字是时间切片编号，第二个是三个p。p的解释如上"
   ]
  },
  {
   "cell_type": "markdown",
   "metadata": {},
   "source": [
    "sig_col 即为显著的index"
   ]
  },
  {
   "cell_type": "markdown",
   "metadata": {},
   "source": [
    "还有更进一步的算最佳lead lag,不过都是1，所以似乎不重要了,写在下面。可以尝试下冲击"
   ]
  },
  {
   "cell_type": "markdown",
   "metadata": {},
   "source": [
    "```python\n",
    "lag_order = model.select_order(15)\n",
    "print(f\"Selected lag order: {lag_order.selected_orders['aic']}\")\n",
    "model_fitted = model.fit(maxlags=lag_order.selected_orders['aic'])\n",
    "print(model_fitted.summary())\n",
    "\n",
    "irf = model_fitted.irf(10) # 10期冲击响应\n",
    "irf.plot(orth=True) # 正交化冲击响应图\n",
    "plt.show()\n",
    "\n",
    "```"
   ]
  },
  {
   "cell_type": "markdown",
   "metadata": {},
   "source": [
    "# 协整检验\n",
    "* 只用检验上面的data数据（就是一列是期货数据，一列是股票数据）"
   ]
  },
  {
   "cell_type": "markdown",
   "metadata": {},
   "source": [
    "!! 只看一次，所以只用了一个break"
   ]
  },
  {
   "cell_type": "code",
   "execution_count": 7,
   "metadata": {},
   "outputs": [],
   "source": [
    "# print('Results of Johansen Cointegration Test:')\n",
    "# print(f\"Test statistic: {result.lr1}\")\n",
    "# print(f\"Critical values: {result.cvt}\")\n",
    "# print(f\"Eigenstatistics: {result.lr2}\")\n",
    "# print(f\"Eigenvalues: {result.eig}\")\n",
    "Test_statistic = []\n",
    "Critical_values = []\n",
    "Eigenstatistic = []\n",
    "Eigenvalues = []\n",
    "for idx, df in enumerate(stock_df):\n",
    "    data = data_generator(fut_df, df, feature)\n",
    "    test_result = johansen_cointegration_test(data)\n",
    "    Test_statistic.append(test_result.lr1)\n",
    "    Critical_values.append(test_result.cvt)\n",
    "    Eigenstatistic.append(test_result.lr2)\n",
    "    Eigenvalues.append(test_result.eig)\n",
    "\n",
    "# 可以很方便的改成df"
   ]
  },
  {
   "cell_type": "markdown",
   "metadata": {},
   "source": [
    "# E-G协整检验"
   ]
  },
  {
   "cell_type": "markdown",
   "metadata": {},
   "source": [
    "* 对回归残差的检验"
   ]
  },
  {
   "cell_type": "markdown",
   "metadata": {},
   "source": [
    "* result是股票对期货回归得到的模型的参数。比如t值 p值 r^2等"
   ]
  },
  {
   "cell_type": "code",
   "execution_count": 7,
   "metadata": {},
   "outputs": [],
   "source": [
    "result_list = []\n",
    "output_list = []\n",
    "for df in stock_df:\n",
    "    data = data_generator(fut_df, df, feature)\n",
    "    result_df, output = EG(data)\n",
    "    result_list.append(result_df)\n",
    "    output_list.append(output)\n"
   ]
  },
  {
   "cell_type": "code",
   "execution_count": 6,
   "metadata": {},
   "outputs": [
    {
     "data": {
      "text/html": [
       "<div>\n",
       "<style scoped>\n",
       "    .dataframe tbody tr th:only-of-type {\n",
       "        vertical-align: middle;\n",
       "    }\n",
       "\n",
       "    .dataframe tbody tr th {\n",
       "        vertical-align: top;\n",
       "    }\n",
       "\n",
       "    .dataframe thead th {\n",
       "        text-align: right;\n",
       "    }\n",
       "</style>\n",
       "<table border=\"1\" class=\"dataframe\">\n",
       "  <thead>\n",
       "    <tr style=\"text-align: right;\">\n",
       "      <th></th>\n",
       "      <th>Coefficients</th>\n",
       "      <th>t-values</th>\n",
       "      <th>p-values</th>\n",
       "      <th>r_squared</th>\n",
       "    </tr>\n",
       "  </thead>\n",
       "  <tbody>\n",
       "    <tr>\n",
       "      <th>const</th>\n",
       "      <td>-0.000013</td>\n",
       "      <td>-0.021723</td>\n",
       "      <td>9.826723e-01</td>\n",
       "      <td>0.32489</td>\n",
       "    </tr>\n",
       "    <tr>\n",
       "      <th>ChangeRatio_df1</th>\n",
       "      <td>1.257340</td>\n",
       "      <td>23.950747</td>\n",
       "      <td>8.209296e-104</td>\n",
       "      <td>0.32489</td>\n",
       "    </tr>\n",
       "  </tbody>\n",
       "</table>\n",
       "</div>"
      ],
      "text/plain": [
       "                 Coefficients   t-values       p-values  r_squared\n",
       "const               -0.000013  -0.021723   9.826723e-01    0.32489\n",
       "ChangeRatio_df1      1.257340  23.950747  8.209296e-104    0.32489"
      ]
     },
     "execution_count": 6,
     "metadata": {},
     "output_type": "execute_result"
    }
   ],
   "source": [
    "result_df"
   ]
  },
  {
   "cell_type": "markdown",
   "metadata": {},
   "source": [
    "# ATE（暂时失败）"
   ]
  },
  {
   "cell_type": "code",
   "execution_count": 4,
   "metadata": {},
   "outputs": [
    {
     "ename": "ValueError",
     "evalue": "Too few treated units: N_t < K+1",
     "output_type": "error",
     "traceback": [
      "\u001b[0;31m---------------------------------------------------------------------------\u001b[0m",
      "\u001b[0;31mValueError\u001b[0m                                Traceback (most recent call last)",
      "Cell \u001b[0;32mIn [4], line 16\u001b[0m\n\u001b[1;32m     12\u001b[0m X \u001b[38;5;241m=\u001b[39m np\u001b[38;5;241m.\u001b[39mones((n, \u001b[38;5;241m1\u001b[39m))\n\u001b[1;32m     14\u001b[0m \u001b[38;5;66;03m# 创建因果推断模型\u001b[39;00m\n\u001b[1;32m     15\u001b[0m \u001b[38;5;66;03m# 注意：这里我们直接传递Y（结果变量B）、D（处理变量A）和X（协变量）\u001b[39;00m\n\u001b[0;32m---> 16\u001b[0m causal_model \u001b[38;5;241m=\u001b[39m \u001b[43mCausalModel\u001b[49m\u001b[43m(\u001b[49m\u001b[43mY\u001b[49m\u001b[38;5;241;43m=\u001b[39;49m\u001b[43mB\u001b[49m\u001b[43m,\u001b[49m\u001b[43m \u001b[49m\u001b[43mD\u001b[49m\u001b[38;5;241;43m=\u001b[39;49m\u001b[43mA\u001b[49m\u001b[43m,\u001b[49m\u001b[43m \u001b[49m\u001b[43mX\u001b[49m\u001b[38;5;241;43m=\u001b[39;49m\u001b[43mX\u001b[49m\u001b[43m)\u001b[49m\n\u001b[1;32m     18\u001b[0m \u001b[38;5;66;03m# 进行因果推断分析\u001b[39;00m\n\u001b[1;32m     19\u001b[0m causal_model\u001b[38;5;241m.\u001b[39mest_via_ols(adj\u001b[38;5;241m=\u001b[39m\u001b[38;5;241m1\u001b[39m)\n",
      "File \u001b[0;32m~/anaconda3/envs/py39/lib/python3.9/site-packages/causalinference/causal.py:17\u001b[0m, in \u001b[0;36mCausalModel.__init__\u001b[0;34m(self, Y, D, X)\u001b[0m\n\u001b[1;32m     15\u001b[0m \u001b[38;5;28;01mdef\u001b[39;00m \u001b[38;5;21m__init__\u001b[39m(\u001b[38;5;28mself\u001b[39m, Y, D, X):\n\u001b[0;32m---> 17\u001b[0m \t\u001b[38;5;28mself\u001b[39m\u001b[38;5;241m.\u001b[39mold_data \u001b[38;5;241m=\u001b[39m \u001b[43mData\u001b[49m\u001b[43m(\u001b[49m\u001b[43mY\u001b[49m\u001b[43m,\u001b[49m\u001b[43m \u001b[49m\u001b[43mD\u001b[49m\u001b[43m,\u001b[49m\u001b[43m \u001b[49m\u001b[43mX\u001b[49m\u001b[43m)\u001b[49m\n\u001b[1;32m     18\u001b[0m \t\u001b[38;5;28mself\u001b[39m\u001b[38;5;241m.\u001b[39mreset()\n",
      "File \u001b[0;32m~/anaconda3/envs/py39/lib/python3.9/site-packages/causalinference/core/data.py:65\u001b[0m, in \u001b[0;36mData.__init__\u001b[0;34m(self, outcome, treatment, covariates)\u001b[0m\n\u001b[1;32m     63\u001b[0m \t\u001b[38;5;28;01mraise\u001b[39;00m \u001b[38;5;167;01mValueError\u001b[39;00m(\u001b[38;5;124m'\u001b[39m\u001b[38;5;124mToo few control units: N_c < K+1\u001b[39m\u001b[38;5;124m'\u001b[39m)\n\u001b[1;32m     64\u001b[0m \u001b[38;5;28;01mif\u001b[39;00m \u001b[38;5;28mself\u001b[39m\u001b[38;5;241m.\u001b[39m_dict[\u001b[38;5;124m'\u001b[39m\u001b[38;5;124mK\u001b[39m\u001b[38;5;124m'\u001b[39m]\u001b[38;5;241m+\u001b[39m\u001b[38;5;241m1\u001b[39m \u001b[38;5;241m>\u001b[39m \u001b[38;5;28mself\u001b[39m\u001b[38;5;241m.\u001b[39m_dict[\u001b[38;5;124m'\u001b[39m\u001b[38;5;124mN_t\u001b[39m\u001b[38;5;124m'\u001b[39m]:\n\u001b[0;32m---> 65\u001b[0m \t\u001b[38;5;28;01mraise\u001b[39;00m \u001b[38;5;167;01mValueError\u001b[39;00m(\u001b[38;5;124m'\u001b[39m\u001b[38;5;124mToo few treated units: N_t < K+1\u001b[39m\u001b[38;5;124m'\u001b[39m)\n",
      "\u001b[0;31mValueError\u001b[0m: Too few treated units: N_t < K+1"
     ]
    }
   ],
   "source": [
    "import numpy as np\n",
    "from causalinference import CausalModel\n",
    "\n",
    "# 生成示例数据\n",
    "np.random.seed(0)\n",
    "n = 1000\n",
    "A = np.random.normal(loc=0, scale=1, size=n)\n",
    "B = 2 * A + np.random.normal(loc=0, scale=1, size=n)\n",
    "\n",
    "# 由于示例中没有协变量X，我们可以创建一个全为1的数组作为占位符\n",
    "# 这样做是为了满足CausalModel的参数要求\n",
    "X = np.ones((n, 1))\n",
    "\n",
    "# 创建因果推断模型\n",
    "# 注意：这里我们直接传递Y（结果变量B）、D（处理变量A）和X（协变量）\n",
    "causal_model = CausalModel(Y=B, D=A, X=X)\n",
    "\n",
    "# 进行因果推断分析\n",
    "causal_model.est_via_ols(adj=1)\n",
    "print(causal_model.estimates)\n",
    "\n",
    "# 获取平均因果效应（ATE）\n",
    "ate = causal_model.estimates['ols']['ate']\n",
    "print(\"Average Treatment Effect (ATE):\", ate)\n"
   ]
  },
  {
   "cell_type": "code",
   "execution_count": null,
   "metadata": {},
   "outputs": [],
   "source": []
  }
 ],
 "metadata": {
  "kernelspec": {
   "display_name": "py39",
   "language": "python",
   "name": "python3"
  },
  "language_info": {
   "codemirror_mode": {
    "name": "ipython",
    "version": 3
   },
   "file_extension": ".py",
   "mimetype": "text/x-python",
   "name": "python",
   "nbconvert_exporter": "python",
   "pygments_lexer": "ipython3",
   "version": "3.9.13"
  }
 },
 "nbformat": 4,
 "nbformat_minor": 2
}
